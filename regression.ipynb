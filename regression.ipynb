{
 "cells": [
  {
   "cell_type": "code",
   "execution_count": 1,
   "metadata": {
    "collapsed": true
   },
   "outputs": [],
   "source": [
    "#Linear Regression"
   ]
  },
  {
   "cell_type": "code",
   "execution_count": 2,
   "metadata": {
    "collapsed": true
   },
   "outputs": [],
   "source": [
    "import matplotlib.pyplot as plt   # For visualization\n",
    "import tensorflow as tf           # For Machine Learning\n",
    "import xlrd                       # For data reading\n",
    "import numpy as np                # For mathematical operations"
   ]
  },
  {
   "cell_type": "code",
   "execution_count": 3,
   "metadata": {
    "collapsed": true
   },
   "outputs": [],
   "source": [
    "#To display plots within notebook\n",
    "%matplotlib inline                "
   ]
  },
  {
   "cell_type": "code",
   "execution_count": 4,
   "metadata": {
    "collapsed": true
   },
   "outputs": [],
   "source": [
    "#Store data path in a variable\n",
    "DATA_FILE = '/home/aeros/Documents/Datasets/Fire-Theft.xls'"
   ]
  },
  {
   "cell_type": "code",
   "execution_count": 5,
   "metadata": {},
   "outputs": [
    {
     "name": "stdout",
     "output_type": "stream",
     "text": [
      "32 10\n"
     ]
    }
   ],
   "source": [
    "#Step 1: Reading data from the .xls file\n",
    "book = xlrd.open_workbook(DATA_FILE, encoding_override = 'utf-8')\n",
    "sheet = book.sheet_by_index(0)\n",
    "train_data = np.asarray([sheet.row_values(i) for i in range(1, sheet.nrows-10)])\n",
    "test_data = np.asarray([sheet.row_values(i) for i in range(sheet.nrows-10, sheet.nrows)])\n",
    "print(len(train_data), len(test_data))\n",
    "n_samples = len(train_data)"
   ]
  },
  {
   "cell_type": "code",
   "execution_count": 6,
   "metadata": {
    "collapsed": true
   },
   "outputs": [],
   "source": [
    "#Step 2: Create placeholders for X(number of fire) and Y(number of theft)\n",
    "X = tf.placeholder(dtype = tf.float32, name = 'X')\n",
    "Y = tf.placeholder(dtype = tf.float32, name = 'Y')"
   ]
  },
  {
   "cell_type": "code",
   "execution_count": 7,
   "metadata": {
    "collapsed": true
   },
   "outputs": [],
   "source": [
    "#Step 3: Create w(weights) and b(biases) initalized to 0\n",
    "w = tf.Variable(0.0, name = 'weights')\n",
    "b = tf.Variable(0.0, name = 'biases')"
   ]
  },
  {
   "cell_type": "code",
   "execution_count": 8,
   "metadata": {
    "collapsed": true
   },
   "outputs": [],
   "source": [
    "#Step 4: Get prediction for Y\n",
    "Y_predicted = X*w + b"
   ]
  },
  {
   "cell_type": "code",
   "execution_count": 9,
   "metadata": {
    "collapsed": true
   },
   "outputs": [],
   "source": [
    "#Step 5: Use the squared error as the loss function\n",
    "loss = tf.square(Y - Y_predicted, name = 'loss')\n",
    "loss_sum = 0.0 #loss_per_epoch"
   ]
  },
  {
   "cell_type": "code",
   "execution_count": 10,
   "metadata": {
    "collapsed": true
   },
   "outputs": [],
   "source": [
    "# A counter to keep track of number of times the updates happened\n",
    "global_step = tf.Variable(0.0, name = 'global_step')"
   ]
  },
  {
   "cell_type": "code",
   "execution_count": 11,
   "metadata": {
    "collapsed": true
   },
   "outputs": [],
   "source": [
    "#Step 6: Using Gradient Descent Optimizer with learning_rate = 0.001 to minimize loss\n",
    "optimizer = tf.train.GradientDescentOptimizer(learning_rate = 0.001).minimize(loss, global_step = global_step)"
   ]
  },
  {
   "cell_type": "markdown",
   "metadata": {},
   "source": [
    "There are several other optimizers. Each of them have a different or quite similar update strategies.\n",
    "- tf.train.AdadeltaOptimizer\n",
    "- tf.train.AdagradOptimizer\n",
    "- tf.train.AdagradDAOptimizer\n",
    "- tf.train.MomentumOptimizer\n",
    "- tf.train.AdamOptimizer\n",
    "- tf.train.FtrlOptimizer\n",
    "- tf.train.ProximalGradientDescentOptimizer\n",
    "- tf.train.ProximalAdagradOptimizer\n",
    "- tf.train.RMSPropOptimizer"
   ]
  },
  {
   "cell_type": "code",
   "execution_count": 12,
   "metadata": {},
   "outputs": [
    {
     "name": "stdout",
     "output_type": "stream",
     "text": [
      "Average loss over epoch 0 =  2588.17993141\n",
      "Average loss over epoch 1 =  2588.54694986\n",
      "Average loss over epoch 2 =  2570.07521176\n",
      "Average loss over epoch 3 =  2552.12037992\n",
      "Average loss over epoch 4 =  2534.66433781\n",
      "Average loss over epoch 5 =  2517.69169891\n",
      "Average loss over epoch 6 =  2501.18877876\n",
      "Average loss over epoch 7 =  2485.14075691\n",
      "Average loss over epoch 8 =  2469.53236589\n",
      "Average loss over epoch 9 =  2454.35182986\n",
      "Average loss over epoch 10 =  2439.58411276\n",
      "Average loss over epoch 11 =  2425.21765853\n",
      "Average loss over epoch 12 =  2411.24064244\n",
      "Average loss over epoch 13 =  2397.6409906\n",
      "Average loss over epoch 14 =  2384.40636061\n",
      "Average loss over epoch 15 =  2371.52683056\n",
      "Average loss over epoch 16 =  2358.99164003\n",
      "Average loss over epoch 17 =  2346.78997061\n",
      "Average loss over epoch 18 =  2334.91213975\n",
      "Average loss over epoch 19 =  2323.34931738\n",
      "Average loss over epoch 20 =  2312.091158\n",
      "Average loss over epoch 21 =  2301.12944653\n",
      "Average loss over epoch 22 =  2290.45455142\n",
      "Average loss over epoch 23 =  2280.05902322\n",
      "Average loss over epoch 24 =  2269.93472166\n",
      "Average loss over epoch 25 =  2260.07308043\n",
      "Average loss over epoch 26 =  2250.46645343\n",
      "Average loss over epoch 27 =  2241.10800058\n",
      "Average loss over epoch 28 =  2231.990828\n",
      "Average loss over epoch 29 =  2223.1070878\n",
      "Average loss over epoch 30 =  2214.45143583\n",
      "Average loss over epoch 31 =  2206.01648597\n",
      "Average loss over epoch 32 =  2197.79598542\n",
      "Average loss over epoch 33 =  2189.78364424\n",
      "Average loss over epoch 34 =  2181.97480444\n",
      "Average loss over epoch 35 =  2174.36310252\n",
      "Average loss over epoch 36 =  2166.94256133\n",
      "Average loss over epoch 37 =  2159.70852015\n",
      "Average loss over epoch 38 =  2152.65513594\n",
      "Average loss over epoch 39 =  2145.77773793\n",
      "Average loss over epoch 40 =  2139.07210512\n",
      "Average loss over epoch 41 =  2132.53282263\n",
      "Average loss over epoch 42 =  2126.15529429\n",
      "Average loss over epoch 43 =  2119.93594607\n",
      "Average loss over epoch 44 =  2113.86970382\n",
      "Average loss over epoch 45 =  2107.95198209\n",
      "Average loss over epoch 46 =  2102.18023184\n",
      "Average loss over epoch 47 =  2096.5492536\n",
      "Average loss over epoch 48 =  2091.05579801\n",
      "Average loss over epoch 49 =  2085.6962106\n",
      "Average loss over epoch 50 =  2080.46703487\n",
      "Average loss over epoch 51 =  2075.36418605\n",
      "Average loss over epoch 52 =  2070.38498204\n",
      "Average loss over epoch 53 =  2065.52542004\n",
      "Average loss over epoch 54 =  2060.78313874\n",
      "Average loss over epoch 55 =  2056.15493496\n",
      "Average loss over epoch 56 =  2051.63763667\n",
      "Average loss over epoch 57 =  2047.22861628\n",
      "Average loss over epoch 58 =  2042.92419652\n",
      "Average loss over epoch 59 =  2038.72256734\n",
      "Average loss over epoch 60 =  2034.62122127\n",
      "Average loss over epoch 61 =  2030.61725681\n",
      "Average loss over epoch 62 =  2026.70690162\n",
      "Average loss over epoch 63 =  2022.88959521\n",
      "Average loss over epoch 64 =  2019.16300671\n",
      "Average loss over epoch 65 =  2015.52376678\n",
      "Average loss over epoch 66 =  2011.96982703\n",
      "Average loss over epoch 67 =  2008.499953\n",
      "Average loss over epoch 68 =  2005.11023768\n",
      "Average loss over epoch 69 =  2001.80045398\n",
      "Average loss over epoch 70 =  1998.56771949\n",
      "Average loss over epoch 71 =  1995.41021222\n",
      "Average loss over epoch 72 =  1992.32610569\n",
      "Average loss over epoch 73 =  1989.31363014\n",
      "Average loss over epoch 74 =  1986.37105714\n",
      "Average loss over epoch 75 =  1983.49640459\n",
      "Average loss over epoch 76 =  1980.68803593\n",
      "Average loss over epoch 77 =  1977.94517832\n",
      "Average loss over epoch 78 =  1975.2645356\n",
      "Average loss over epoch 79 =  1972.64560759\n",
      "Average loss over epoch 80 =  1970.08707698\n",
      "Average loss over epoch 81 =  1967.58749526\n",
      "Average loss over epoch 82 =  1965.14496766\n",
      "Average loss over epoch 83 =  1962.75804379\n",
      "Average loss over epoch 84 =  1960.42517475\n",
      "Average loss over epoch 85 =  1958.14638135\n",
      "Average loss over epoch 86 =  1955.91923777\n",
      "Average loss over epoch 87 =  1953.74205473\n",
      "Average loss over epoch 88 =  1951.61540589\n",
      "Average loss over epoch 89 =  1949.5361209\n",
      "Average loss over epoch 90 =  1947.50424693\n",
      "Average loss over epoch 91 =  1945.51815536\n",
      "Average loss over epoch 92 =  1943.57697441\n",
      "Average loss over epoch 93 =  1941.67937242\n",
      "Average loss over epoch 94 =  1939.82487293\n",
      "Average loss over epoch 95 =  1938.01198527\n",
      "Average loss over epoch 96 =  1936.23978666\n",
      "Average loss over epoch 97 =  1934.50744154\n",
      "Average loss over epoch 98 =  1932.81406084\n",
      "Average loss over epoch 99 =  1931.15880808\n",
      "Model saved in file: /home/aeros/models/model.ckpt-100\n",
      "1.12451 12.455 \n",
      "\n",
      "global_step =  3200.0\n",
      "Loss on each prediction:  193.835\n",
      "Loss on each prediction:  467.668\n",
      "Loss on each prediction:  364.619\n",
      "Loss on each prediction:  187.993\n",
      "Loss on each prediction:  1.19028\n",
      "Loss on each prediction:  461.862\n",
      "Loss on each prediction:  181.963\n",
      "Loss on each prediction:  123.817\n",
      "Loss on each prediction:  0.418628\n",
      "Loss on each prediction:  11.0893\n"
     ]
    }
   ],
   "source": [
    "#Step 7: Training part\n",
    "with tf.Session() as sess:\n",
    "    #initialie the variables\n",
    "    sess.run(tf.global_variables_initializer())    #Initializes all variables defined above\n",
    "    saver = tf.train.Saver()                       #returns an object with methods to save and restore models\n",
    "    #train for 100 epochs\n",
    "    for i in range(100):\n",
    "        for x,y in train_data:\n",
    "            opt, loss_value = sess.run([optimizer, loss], feed_dict = {X:x,Y:y})\n",
    "            loss_sum += loss_value\n",
    "        average_loss = loss_sum/n_samples\n",
    "        print(\"Average loss over epoch {} = \".format(i), average_loss)\n",
    "        loss_sum = 0.0\n",
    "        if (i + 1)%10 == 0:\n",
    "            # Saving model on checkpoints at every 10th epoch\n",
    "            save_path = saver.save(sess, \"/home/aeros/models/model.ckpt\", global_step = (i+1)) \n",
    "    print(\"Model saved in file: %s\" % save_path)\n",
    "    w_value, b_value = sess.run([w,b])\n",
    "    print(w_value, b_value,'\\n')\n",
    "    \n",
    "    #Print global_step to view number of times updates too place\n",
    "    print('global_step = ',global_step.eval())\n",
    "    \n",
    "    #test model\n",
    "    for x,y in test_data:\n",
    "        opt, loss_value = sess.run([optimizer, loss], feed_dict = {X:x, Y:y})\n",
    "        print('Loss on each prediction: ',loss_value)"
   ]
  },
  {
   "cell_type": "markdown",
   "metadata": {},
   "source": [
    "Not close to say a decent result. A primary reason is that the size of the dataset is too small. The linear model just might not be able to fit the complexities within the data. "
   ]
  },
  {
   "cell_type": "code",
   "execution_count": 14,
   "metadata": {
    "collapsed": true
   },
   "outputs": [],
   "source": [
    "#Data preparation for visualization\n",
    "Y_train = [train_data[i][1] for i in range(len(train_data))]\n",
    "X_train = [train_data[i][0] for i in range(len(train_data))]\n",
    "Y_predicted = [(X_train[i]*w_value + b_value) for i in range(len(train_data))]  \n",
    "#w_value and b_value are final weights and biases obtained"
   ]
  },
  {
   "cell_type": "code",
   "execution_count": 15,
   "metadata": {
    "scrolled": true
   },
   "outputs": [
    {
     "data": {
      "image/png": "[encoded data removed]",
      "text/plain": [
       "<matplotlib.figure.Figure at 0x7f49fe953400>"
      ]
     },
     "metadata": {},
     "output_type": "display_data"
    }
   ],
   "source": [
    "plt.scatter(X_train, Y_train)        #training data represented by blue dots\n",
    "# plt.scatter(X,Y_predicted, '-xr') \n",
    "plt.plot(X_train,Y_predicted,'-xr')  #predicted data from the computed weights and biases\n",
    "plt.xlabel('Input X on training data')\n",
    "plt.ylabel('Actual & Predicted Output Y')\n",
    "plt.show()"
   ]
  },
  {
   "cell_type": "code",
   "execution_count": null,
   "metadata": {
    "collapsed": true
   },
   "outputs": [],
   "source": [
    "#To restore a saved model\n",
    "saver = tf.train.Saver()\n",
    "with tf.session() as sess:\n",
    "    save.restore(sess, model_name)"
   ]
  },
  {
   "cell_type": "code",
   "execution_count": 16,
   "metadata": {
    "collapsed": true
   },
   "outputs": [],
   "source": [
    "#Using Quadratic loss Function on the same dataset\n",
    "X = tf.placeholder(dtype = tf.float32, name = 'X')\n",
    "Y = tf.placeholder(dtype = tf.float32, name = 'Y')\n",
    "#Define new weights\n",
    "w = tf.Variable(0.0, name = 'weights_1')\n",
    "u = tf.Variable(0.0, name = 'weights_2')\n",
    "b = tf.Variable(0.0, name = 'biases')\n",
    "\n",
    "#Get prediction for Y\n",
    "Y_predicted = X*X*w + X*u + b\n",
    "#Use squared error as the loss function\n",
    "loss = tf.square(Y - Y_predicted, name = 'loss')\n",
    "# Define variable to store loss per epoch\n",
    "loss_value = tf.Variable(0.0, name = 'loss_value')\n",
    "#Loss_per_epoch\n",
    "loss_sum = 0\n",
    "#Use Gradient Descent Optimizer with learning rate = 0.000001 to minimize loss\n",
    "optimizer = tf.train.GradientDescentOptimizer(learning_rate = 0.000001).minimize(loss)\n",
    "\n"
   ]
  },
  {
   "cell_type": "markdown",
   "metadata": {},
   "source": [
    "If in this case the learning rate is kept as 0.001, the learning rate will be too high providing too much energy to the system and the loss would just keep overshooting until the program returns NaN."
   ]
  },
  {
   "cell_type": "code",
   "execution_count": 17,
   "metadata": {},
   "outputs": [
    {
     "name": "stdout",
     "output_type": "stream",
     "text": [
      "Average loss over epoch 0 =  4397.43900886\n",
      "Average loss over epoch 1 =  11480.2467901\n",
      "Average loss over epoch 2 =  14864.3845728\n",
      "Average loss over epoch 3 =  16104.1164736\n",
      "Average loss over epoch 4 =  16591.7946845\n",
      "Average loss over epoch 5 =  16840.5555564\n",
      "Average loss over epoch 6 =  17015.9976773\n",
      "Average loss over epoch 7 =  17169.7444326\n",
      "Average loss over epoch 8 =  17317.691047\n",
      "Average loss over epoch 9 =  17464.765422\n",
      "Average loss over epoch 10 =  17612.484767\n",
      "Average loss over epoch 11 =  17761.3279791\n",
      "Average loss over epoch 12 =  17911.4405195\n",
      "Average loss over epoch 13 =  18062.8690277\n",
      "Average loss over epoch 14 =  18215.6543147\n",
      "Average loss over epoch 15 =  18369.8017381\n",
      "Average loss over epoch 16 =  18525.3305898\n",
      "Average loss over epoch 17 =  18682.2440445\n",
      "Average loss over epoch 18 =  18840.5768309\n",
      "Average loss over epoch 19 =  19000.3197728\n",
      "Average loss over epoch 20 =  19161.5021464\n",
      "Average loss over epoch 21 =  19324.1295164\n",
      "Average loss over epoch 22 =  19488.2152311\n",
      "Average loss over epoch 23 =  19653.7639434\n",
      "Average loss over epoch 24 =  19820.7909942\n",
      "Average loss over epoch 25 =  19989.331504\n",
      "Average loss over epoch 26 =  20159.3732233\n",
      "Average loss over epoch 27 =  20330.9419329\n",
      "Average loss over epoch 28 =  20504.0505137\n",
      "Average loss over epoch 29 =  20678.7057515\n",
      "Average loss over epoch 30 =  20854.9388956\n",
      "Average loss over epoch 31 =  21032.7584667\n",
      "Average loss over epoch 32 =  21212.1546417\n",
      "Average loss over epoch 33 =  21393.1665552\n",
      "Average loss over epoch 34 =  21575.7934012\n",
      "Average loss over epoch 35 =  21760.0678724\n",
      "Average loss over epoch 36 =  21946.0087475\n",
      "Average loss over epoch 37 =  22133.6075732\n",
      "Average loss over epoch 38 =  22322.9031895\n",
      "Average loss over epoch 39 =  22513.8809431\n",
      "Average loss over epoch 40 =  22706.5882715\n",
      "Average loss over epoch 41 =  22900.9971391\n",
      "Average loss over epoch 42 =  23097.1759502\n",
      "Average loss over epoch 43 =  23295.12061\n",
      "Average loss over epoch 44 =  23494.857378\n",
      "Average loss over epoch 45 =  23696.3771993\n",
      "Average loss over epoch 46 =  23899.6846343\n",
      "Average loss over epoch 47 =  24104.8346723\n",
      "Average loss over epoch 48 =  24311.828855\n",
      "Average loss over epoch 49 =  24520.6812106\n",
      "Average loss over epoch 50 =  24731.4001304\n",
      "Average loss over epoch 51 =  24944.0298488\n",
      "Average loss over epoch 52 =  25158.56612\n",
      "Average loss over epoch 53 =  25375.040556\n",
      "Average loss over epoch 54 =  25593.4537036\n",
      "Average loss over epoch 55 =  25813.8152275\n",
      "Average loss over epoch 56 =  26036.1790357\n",
      "Average loss over epoch 57 =  26260.5213454\n",
      "Average loss over epoch 58 =  26486.9067084\n",
      "Average loss over epoch 59 =  26715.3215551\n",
      "Average loss over epoch 60 =  26945.7789553\n",
      "Average loss over epoch 61 =  27178.3290155\n",
      "Average loss over epoch 62 =  27412.955626\n",
      "Average loss over epoch 63 =  27649.6949385\n",
      "Average loss over epoch 64 =  27888.5810021\n",
      "Average loss over epoch 65 =  28129.598991\n",
      "Average loss over epoch 66 =  28372.7882237\n",
      "Average loss over epoch 67 =  28618.1617557\n",
      "Average loss over epoch 68 =  28865.7778586\n",
      "Average loss over epoch 69 =  29115.579657\n",
      "Average loss over epoch 70 =  29367.6540403\n",
      "Average loss over epoch 71 =  29622.0220219\n",
      "Average loss over epoch 72 =  29878.664847\n",
      "Average loss over epoch 73 =  30137.5867268\n",
      "Average loss over epoch 74 =  30398.8699729\n",
      "Average loss over epoch 75 =  30662.4938406\n",
      "Average loss over epoch 76 =  30928.4923638\n",
      "Average loss over epoch 77 =  31196.892199\n",
      "Average loss over epoch 78 =  31467.7211084\n",
      "Average loss over epoch 79 =  31740.9856594\n",
      "Average loss over epoch 80 =  32016.7159746\n",
      "Average loss over epoch 81 =  32294.9117811\n",
      "Average loss over epoch 82 =  32575.6342839\n",
      "Average loss over epoch 83 =  32858.8809649\n",
      "Average loss over epoch 84 =  33144.6642432\n",
      "Average loss over epoch 85 =  33433.0404943\n",
      "Average loss over epoch 86 =  33724.0023651\n",
      "Average loss over epoch 87 =  34017.6195394\n",
      "Average loss over epoch 88 =  34313.8582689\n",
      "Average loss over epoch 89 =  34612.7884215\n",
      "Average loss over epoch 90 =  34914.4093695\n",
      "Average loss over epoch 91 =  35218.7329239\n",
      "Average loss over epoch 92 =  35525.8129734\n",
      "Average loss over epoch 93 =  35835.6759677\n",
      "Average loss over epoch 94 =  36148.323752\n",
      "Average loss over epoch 95 =  36463.7945251\n",
      "Average loss over epoch 96 =  36782.1095784\n",
      "Average loss over epoch 97 =  37103.2822583\n",
      "Average loss over epoch 98 =  37427.3779598\n",
      "Average loss over epoch 99 =  37754.3727607\n",
      "Weights and Biases calculated\n",
      "0.270051 -1.61904 -0.0582711 \n",
      "\n",
      "Loss on each predcition:  1115.71\n",
      "Loss on each predcition:  22172.3\n",
      "Loss on each predcition:  2689.11\n",
      "Loss on each predcition:  2009.25\n",
      "Loss on each predcition:  473.533\n",
      "Loss on each predcition:  3054.23\n",
      "Loss on each predcition:  2449.56\n",
      "Loss on each predcition:  2419.41\n",
      "Loss on each predcition:  1506.51\n",
      "Loss on each predcition:  581.143\n"
     ]
    }
   ],
   "source": [
    "with tf.Session() as sess:\n",
    "    #Initalize variables w,u,b\n",
    "    sess.run(tf.global_variables_initializer())\n",
    "    #train for 100 epoch\n",
    "    for i in range(100):\n",
    "        for x,y in train_data:\n",
    "            opt, loss_value = sess.run([optimizer, loss], feed_dict = {X:x,Y:y})\n",
    "            loss_sum += loss_value\n",
    "        average_loss = loss_sum/n_samples\n",
    "        print(\"Average loss over epoch {} = \".format(i), average_loss)\n",
    "        loss_sum = 0.0\n",
    "        \n",
    "    w_value, u_value, b_value = sess.run([w,u,b])\n",
    "    print('Weights and Biases calculated')\n",
    "    print(w_value,u_value,b_value, '\\n')\n",
    "\n",
    "    #test model\n",
    "    for x,y in test_data:\n",
    "        opt, loss_value = sess.run([optimizer, loss], feed_dict = {X:x, Y:y})\n",
    "        print('Loss on each predcition: ',loss_value)"
   ]
  },
  {
   "cell_type": "code",
   "execution_count": 18,
   "metadata": {
    "collapsed": true
   },
   "outputs": [],
   "source": [
    "#Data Preparation for visualization\n",
    "Y_train = [train_data[i][1] for i in range(len(train_data))]\n",
    "X_train = [train_data[i][0] for i in range(len(train_data))]\n",
    "Y_predicted = [(X_train[i]*X_train[i]*w_value + X_train[i]*u_value + b_value) for i in range(len(train_data))]"
   ]
  },
  {
   "cell_type": "code",
   "execution_count": 19,
   "metadata": {},
   "outputs": [
    {
     "data": {
      "image/png": "[encoded data removed]",
      "text/plain": [
       "<matplotlib.figure.Figure at 0x7f49fc5a1ba8>"
      ]
     },
     "metadata": {},
     "output_type": "display_data"
    }
   ],
   "source": [
    "plt.scatter(X_train, Y_train)        #training data represented by blue dots\n",
    "# plt.scatter(X,Y_predicted, '-xr') \n",
    "plt.plot(X_train,Y_predicted,'x')  #predicted data from the computed weights and biases\n",
    "plt.xlabel('Input X on training data')\n",
    "plt.ylabel('Actual & Predicted Output Y')\n",
    "plt.show()"
   ]
  },
  {
   "cell_type": "markdown",
   "metadata": {},
   "source": [
    "This takes less time to converge than the linear function, but still completely off due to the several outliers on the right. It probably does better with Huber loss instead of MSE or a 3rd degree polynomial as the function f.\n",
    "Using Huber loss for quadratic model, I got something that’s slightly better at ignoring the\n",
    "outliers"
   ]
  },
  {
   "cell_type": "markdown",
   "metadata": {},
   "source": [
    "### Huber Loss (Wikipedia)"
   ]
  },
  {
   "cell_type": "markdown",
   "metadata": {},
   "source": [
    "![](huber_loss.png)"
   ]
  },
  {
   "cell_type": "code",
   "execution_count": 20,
   "metadata": {},
   "outputs": [
    {
     "name": "stdout",
     "output_type": "stream",
     "text": [
      "Average loss over epoch 0 =  32.898601383\n",
      "Average loss over epoch 1 =  31.4343351317\n",
      "Average loss over epoch 2 =  33.8910874128\n",
      "Average loss over epoch 3 =  32.0054972768\n",
      "Average loss over epoch 4 =  33.6729296744\n",
      "Average loss over epoch 5 =  32.0596528053\n",
      "Average loss over epoch 6 =  33.2002156079\n",
      "Average loss over epoch 7 =  31.8916163445\n",
      "Average loss over epoch 8 =  33.499581933\n",
      "Average loss over epoch 9 =  31.9457718879\n",
      "Average loss over epoch 10 =  31.1366345241\n",
      "Average loss over epoch 11 =  31.7910303473\n",
      "Average loss over epoch 12 =  33.0768355278\n",
      "Average loss over epoch 13 =  30.7172654005\n",
      "Average loss over epoch 14 =  30.6990708858\n",
      "Average loss over epoch 15 =  30.6758992523\n",
      "Average loss over epoch 16 =  30.6527273655\n",
      "Average loss over epoch 17 =  30.6295567155\n",
      "Average loss over epoch 18 =  30.6063846052\n",
      "Average loss over epoch 19 =  30.912849889\n",
      "Average loss over epoch 20 =  30.5593642294\n",
      "Average loss over epoch 21 =  30.5361924022\n",
      "Average loss over epoch 22 =  30.5130210519\n",
      "Average loss over epoch 23 =  30.4898493141\n",
      "Average loss over epoch 24 =  30.4666775614\n",
      "Average loss over epoch 25 =  30.4435059726\n",
      "Average loss over epoch 26 =  30.4203349203\n",
      "Average loss over epoch 27 =  30.3971627653\n",
      "Average loss over epoch 28 =  30.3739912808\n",
      "Average loss over epoch 29 =  30.6462112446\n",
      "Average loss over epoch 30 =  30.3256799579\n",
      "Average loss over epoch 31 =  30.3025089353\n",
      "Average loss over epoch 32 =  30.2793361247\n",
      "Average loss over epoch 33 =  30.2561650425\n",
      "Average loss over epoch 34 =  30.2329932749\n",
      "Average loss over epoch 35 =  30.4811866665\n",
      "Average loss over epoch 36 =  30.1847089827\n",
      "Average loss over epoch 37 =  30.1615370214\n",
      "Average loss over epoch 38 =  30.1383655965\n",
      "Average loss over epoch 39 =  30.1151940674\n",
      "Average loss over epoch 40 =  30.0920223445\n",
      "Average loss over epoch 41 =  30.3239136769\n",
      "Average loss over epoch 42 =  30.5170855843\n",
      "Average loss over epoch 43 =  30.7525350302\n",
      "Average loss over epoch 44 =  32.4710595012\n",
      "Average loss over epoch 45 =  30.8066904247\n",
      "Average loss over epoch 46 =  32.2529019713\n",
      "Average loss over epoch 47 =  30.860846132\n",
      "Average loss over epoch 48 =  30.0844292769\n",
      "Average loss over epoch 49 =  29.8487585932\n",
      "Average loss over epoch 50 =  29.8255869597\n",
      "Average loss over epoch 51 =  29.802415207\n",
      "Average loss over epoch 52 =  29.7792431116\n",
      "Average loss over epoch 53 =  29.7560716718\n",
      "Average loss over epoch 54 =  29.7329000533\n",
      "Average loss over epoch 55 =  29.7097289711\n",
      "Average loss over epoch 56 =  29.4420359001\n",
      "Average loss over epoch 57 =  29.6626786888\n",
      "Average loss over epoch 58 =  29.6395068467\n",
      "Average loss over epoch 59 =  29.616335094\n",
      "Average loss over epoch 60 =  29.5931636244\n",
      "Average loss over epoch 61 =  29.3790707218\n",
      "Average loss over epoch 62 =  29.548998192\n",
      "Average loss over epoch 63 =  29.5258277953\n",
      "Average loss over epoch 64 =  29.5026557893\n",
      "Average loss over epoch 65 =  29.4794844389\n",
      "Average loss over epoch 66 =  29.4563138634\n",
      "Average loss over epoch 67 =  29.4331425726\n",
      "Average loss over epoch 68 =  29.409970656\n",
      "Average loss over epoch 69 =  29.3867990673\n",
      "Average loss over epoch 70 =  29.3636277914\n",
      "Average loss over epoch 71 =  29.3404572457\n",
      "Average loss over epoch 72 =  29.4239052063\n",
      "Average loss over epoch 73 =  29.2955221832\n",
      "Average loss over epoch 74 =  29.2723509818\n",
      "Average loss over epoch 75 =  29.2491799444\n",
      "Average loss over epoch 76 =  29.226008296\n",
      "Average loss over epoch 77 =  29.2028365582\n",
      "Average loss over epoch 78 =  29.1796648949\n",
      "Average loss over epoch 79 =  29.1564939767\n",
      "Average loss over epoch 80 =  29.1333231181\n",
      "Average loss over epoch 81 =  29.1101524234\n",
      "Average loss over epoch 82 =  29.0869802088\n",
      "Average loss over epoch 83 =  29.0638091415\n",
      "Average loss over epoch 84 =  29.0406377614\n",
      "Average loss over epoch 85 =  29.0174662024\n",
      "Average loss over epoch 86 =  28.9942948818\n",
      "Average loss over epoch 87 =  28.9711235017\n",
      "Average loss over epoch 88 =  28.6672092108\n",
      "Average loss over epoch 89 =  28.9304781258\n",
      "Average loss over epoch 90 =  28.9073067456\n",
      "Average loss over epoch 91 =  28.8841356933\n",
      "Average loss over epoch 92 =  28.8609646857\n",
      "Average loss over epoch 93 =  28.8377935439\n",
      "Average loss over epoch 94 =  28.8146218359\n",
      "Average loss over epoch 95 =  28.7914508134\n",
      "Average loss over epoch 96 =  28.7682791352\n",
      "Average loss over epoch 97 =  28.7451078147\n",
      "Average loss over epoch 98 =  28.7219366729\n",
      "Average loss over epoch 99 =  28.6987657398\n",
      "Weights and Biases calculated\n",
      "0.0366009 0.882814 0.184418 \n",
      "\n",
      "Loss on each prediction:  25.9865\n",
      "Loss on each prediction:  29.9303\n",
      "Loss on each prediction:  28.922\n",
      "Loss on each prediction:  24.9325\n",
      "Loss on each prediction:  13.308\n",
      "Loss on each prediction:  34.5864\n",
      "Loss on each prediction:  30.2969\n",
      "Loss on each prediction:  29.78\n",
      "Loss on each prediction:  19.2869\n",
      "Loss on each prediction:  12.9047\n"
     ]
    }
   ],
   "source": [
    "#Using Quadratic loss Function with huber loss\n",
    "X = tf.placeholder(dtype = tf.float32, name = 'X')\n",
    "Y = tf.placeholder(dtype = tf.float32, name = 'Y')\n",
    "#Define new weights\n",
    "w = tf.Variable(0.0, name = 'weights_1')\n",
    "u = tf.Variable(0.0, name = 'weights_2')\n",
    "b = tf.Variable(0.0, name = 'biases')\n",
    "\n",
    "#Get prediction for Y\n",
    "Y_predicted = X*X*w + X*u + b\n",
    "#Use root-squared error as the loss function\n",
    "loss = tf.losses.huber_loss(Y, Y_predicted)\n",
    "# Define variable to store loss per epoch\n",
    "loss_value = tf.Variable(0.0, name = 'loss_value')\n",
    "#Loss_per_epoch\n",
    "loss_sum = 0\n",
    "#Use Gradient Descent Optimizer with learning rate = 0.0001 to minimize loss\n",
    "optimizer = tf.train.GradientDescentOptimizer(learning_rate = 0.0001).minimize(loss)\n",
    "# With huber loss we can run the the model with that high of a learning rate\n",
    "\n",
    "with tf.Session() as sess:\n",
    "    sess.run(tf.global_variables_initializer())\n",
    "    for i in range(100):\n",
    "        for x,y in train_data:\n",
    "            opt, loss_value = sess.run([optimizer, loss], feed_dict = {X:x, Y:y})\n",
    "            loss_sum += loss_value\n",
    "        average_loss = loss_sum/n_samples\n",
    "        print(\"Average loss over epoch {} = \".format(i), average_loss)\n",
    "        loss_sum = 0.0\n",
    "    w_value, u_value, b_value = sess.run([w,u,b])\n",
    "    print('Weights and Biases calculated')\n",
    "    print(w.eval(), u.eval(), b.eval(), '\\n')  #var.eval() lets you access the value of a variable\n",
    "    \n",
    "\n",
    "\n",
    "    \n",
    "    #test model\n",
    "    for x,y in test_data:\n",
    "        opt, loss_value = sess.run([optimizer, loss], feed_dict = {X:x, Y:y})\n",
    "        print('Loss on each prediction: ',loss_value)"
   ]
  },
  {
   "cell_type": "code",
   "execution_count": 21,
   "metadata": {
    "collapsed": true
   },
   "outputs": [],
   "source": [
    "#Data Preparation for visualization\n",
    "Y_train = [train_data[i][1] for i in range(len(train_data))]\n",
    "X_train = [train_data[i][0] for i in range(len(train_data))]\n",
    "Y_predicted = [(X_train[i]*X_train[i]*w_value + X_train[i]*u_value + b_value) for i in range(len(train_data))]"
   ]
  },
  {
   "cell_type": "code",
   "execution_count": 22,
   "metadata": {
    "scrolled": true
   },
   "outputs": [
    {
     "data": {
      "image/png": "[encoded data removed]",
      "text/plain": [
       "<matplotlib.figure.Figure at 0x7f49f67ae240>"
      ]
     },
     "metadata": {},
     "output_type": "display_data"
    }
   ],
   "source": [
    "plt.scatter(X_train, Y_train)        #training data represented by blue dots\n",
    "plt.plot(X_train,Y_predicted,'xr')  #predicted data from the computed weights and biases\n",
    "plt.xlabel('Input X on training data')\n",
    "plt.ylabel('Actual & Predicted Output Y')\n",
    "plt.show()"
   ]
  },
  {
   "cell_type": "markdown",
   "metadata": {},
   "source": [
    "We can also use tensorboard for visualization of our model in graph.\n",
    "After running the code, type into terminal> tensorboard --logidir = 'enter the graph path'\n",
    "\n",
    "After,\n",
    "\n",
    "tf.Session() as sess:\n",
    "    #Create a writer object\n",
    "    writer = tf.summary.FileWriter('graph path', sess.graph)\n",
    "    \n",
    "    \n",
    "    \n",
    "    '''After training and testing code'''\n",
    "    \n",
    "writer.close()"
   ]
  },
  {
   "cell_type": "markdown",
   "metadata": {},
   "source": [
    "![](gradient_graph.png)"
   ]
  }
 ],
 "metadata": {
  "kernelspec": {
   "display_name": "Python 3",
   "language": "python",
   "name": "python3"
  },
  "language_info": {
   "codemirror_mode": {
    "name": "ipython",
    "version": 3
   },
   "file_extension": ".py",
   "mimetype": "text/x-python",
   "name": "python",
   "nbconvert_exporter": "python",
   "pygments_lexer": "ipython3",
   "version": "3.6.1"
  }
 },
 "nbformat": 4,
 "nbformat_minor": 2
}
