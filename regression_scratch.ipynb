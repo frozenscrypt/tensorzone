{
 "cells": [
  {
   "cell_type": "code",
   "execution_count": 1,
   "metadata": {
    "collapsed": true
   },
   "outputs": [],
   "source": [
    "#Import dependencies\n",
    "import numpy as np\n",
    "import matplotlib.pyplot as plt"
   ]
  },
  {
   "cell_type": "code",
   "execution_count": 2,
   "metadata": {
    "collapsed": true
   },
   "outputs": [],
   "source": [
    "%matplotlib inline"
   ]
  },
  {
   "cell_type": "code",
   "execution_count": 3,
   "metadata": {
    "collapsed": true
   },
   "outputs": [],
   "source": [
    "#Generating inputs\n",
    "X = [(i,2*i) for i in range(500)]\n",
    "#Generating outputs\n",
    "Y = [(i + 2*i + 1) for i in range(500)]\n",
    "#Converting to numpy arrays to support efficient operations\n",
    "X = np.asarray(X)\n",
    "Y = np.asarray(Y)"
   ]
  },
  {
   "cell_type": "code",
   "execution_count": 4,
   "metadata": {
    "collapsed": true
   },
   "outputs": [],
   "source": [
    "#Splitting into train and test data\n",
    "X_train = X[0:400,:]\n",
    "Y_train = Y[0:400]\n",
    "X_test = X[400:,:]\n",
    "Y_test = Y[400:]"
   ]
  },
  {
   "cell_type": "code",
   "execution_count": 5,
   "metadata": {},
   "outputs": [
    {
     "data": {
      "text/plain": [
       "((400, 2), (100, 2), (400,), (100,))"
      ]
     },
     "execution_count": 5,
     "metadata": {},
     "output_type": "execute_result"
    }
   ],
   "source": [
    "X_train.shape, X_test.shape, Y_train.shape, Y_test.shape"
   ]
  },
  {
   "cell_type": "code",
   "execution_count": 6,
   "metadata": {},
   "outputs": [
    {
     "data": {
      "text/plain": [
       "8"
      ]
     },
     "execution_count": 6,
     "metadata": {},
     "output_type": "execute_result"
    }
   ],
   "source": [
    "#Batch Size\n",
    "batch_size = 50\n",
    "#Number of batches\n",
    "num_batches = int(len(X_train)/batch_size)\n",
    "num_batches"
   ]
  },
  {
   "cell_type": "code",
   "execution_count": 7,
   "metadata": {},
   "outputs": [
    {
     "data": {
      "text/plain": [
       "array([[ 0.40977731,  0.50479349,  0.22971408]])"
      ]
     },
     "execution_count": 7,
     "metadata": {},
     "output_type": "execute_result"
    }
   ],
   "source": [
    "#Weights and bias intitialization\n",
    "w = np.random.uniform(size = (1,3))\n",
    "w"
   ]
  },
  {
   "cell_type": "code",
   "execution_count": 8,
   "metadata": {
    "collapsed": true
   },
   "outputs": [],
   "source": [
    "#Computing output\n",
    "def output(x,w):\n",
    "    return np.add(np.matmul(w[:,0:2],x.T),w[:,2])"
   ]
  },
  {
   "cell_type": "code",
   "execution_count": 9,
   "metadata": {
    "collapsed": true
   },
   "outputs": [],
   "source": [
    "#Comnputing loss\n",
    "def losses(output, y):\n",
    "    return np.square(output - y.T).mean()"
   ]
  },
  {
   "cell_type": "code",
   "execution_count": 10,
   "metadata": {
    "collapsed": true
   },
   "outputs": [],
   "source": [
    "#List to store loss values on each training batch\n",
    "loss_values = []\n",
    "#Sum of losses for batches\n",
    "loss_sum = 0.0\n",
    "#Inital weight gradient\n",
    "dw = np.zeros(shape = (1,2))\n",
    "#Initial bias gradient\n",
    "db = 0.0\n",
    "#Learning rate\n",
    "learning_rate = 1e-9\n",
    "#Number of epochs\n",
    "n_epochs = 75\n",
    "#Batch indexing\n",
    "ind = 0\n",
    "#Loss per epoch\n",
    "loss_epoch = []"
   ]
  },
  {
   "cell_type": "code",
   "execution_count": 11,
   "metadata": {
    "scrolled": true
   },
   "outputs": [
    {
     "name": "stdout",
     "output_type": "stream",
     "text": [
      "Loss at epoch 1: 122754.2\n",
      "Loss at epoch 2: 98996.4\n",
      "Loss at epoch 3: 79836.8\n",
      "Loss at epoch 4: 64385.3\n",
      "Loss at epoch 5: 51924.3\n",
      "Loss at epoch 6: 41875.0\n",
      "Loss at epoch 7: 33770.6\n",
      "Loss at epoch 8: 27234.8\n",
      "Loss at epoch 9: 21963.9\n",
      "Loss at epoch 10: 17713.1\n",
      "Loss at epoch 11: 14285.0\n",
      "Loss at epoch 12: 11520.4\n",
      "Loss at epoch 13: 9290.9\n",
      "Loss at epoch 14: 7492.8\n",
      "Loss at epoch 15: 6042.8\n",
      "Loss at epoch 16: 4873.3\n",
      "Loss at epoch 17: 3930.2\n",
      "Loss at epoch 18: 3169.7\n",
      "Loss at epoch 19: 2556.3\n",
      "Loss at epoch 20: 2061.6\n",
      "Loss at epoch 21: 1662.7\n",
      "Loss at epoch 22: 1341.0\n",
      "Loss at epoch 23: 1081.5\n",
      "Loss at epoch 24: 872.2\n",
      "Loss at epoch 25: 703.5\n",
      "Loss at epoch 26: 567.4\n",
      "Loss at epoch 27: 457.6\n",
      "Loss at epoch 28: 369.1\n",
      "Loss at epoch 29: 297.7\n",
      "Loss at epoch 30: 240.1\n",
      "Loss at epoch 31: 193.7\n",
      "Loss at epoch 32: 156.3\n",
      "Loss at epoch 33: 126.1\n",
      "Loss at epoch 34: 101.7\n",
      "Loss at epoch 35:  82.1\n",
      "Loss at epoch 36:  66.2\n",
      "Loss at epoch 37:  53.4\n",
      "Loss at epoch 38:  43.1\n",
      "Loss at epoch 39:  34.8\n",
      "Loss at epoch 40:  28.1\n",
      "Loss at epoch 41:  22.7\n",
      "Loss at epoch 42:  18.3\n",
      "Loss at epoch 43:  14.8\n",
      "Loss at epoch 44:  12.0\n",
      "Loss at epoch 45:   9.7\n",
      "Loss at epoch 46:   7.9\n",
      "Loss at epoch 47:   6.4\n",
      "Loss at epoch 48:   5.2\n",
      "Loss at epoch 49:   4.2\n",
      "Loss at epoch 50:   3.4\n",
      "Loss at epoch 51:   2.8\n",
      "Loss at epoch 52:   2.3\n",
      "Loss at epoch 53:   1.9\n",
      "Loss at epoch 54:   1.5\n",
      "Loss at epoch 55:   1.3\n",
      "Loss at epoch 56:   1.1\n",
      "Loss at epoch 57:   0.9\n",
      "Loss at epoch 58:   0.7\n",
      "Loss at epoch 59:   0.6\n",
      "Loss at epoch 60:   0.5\n",
      "Loss at epoch 61:   0.5\n",
      "Loss at epoch 62:   0.4\n",
      "Loss at epoch 63:   0.4\n",
      "Loss at epoch 64:   0.3\n",
      "Loss at epoch 65:   0.3\n",
      "Loss at epoch 66:   0.3\n",
      "Loss at epoch 67:   0.2\n",
      "Loss at epoch 68:   0.2\n",
      "Loss at epoch 69:   0.2\n",
      "Loss at epoch 70:   0.2\n",
      "Loss at epoch 71:   0.2\n",
      "Loss at epoch 72:   0.2\n",
      "Loss at epoch 73:   0.2\n",
      "Loss at epoch 74:   0.2\n",
      "Loss at epoch 75:   0.2\n",
      "Loss at test time : 0.08892854423716305\n",
      "Final weights :  [[ 0.72637635  1.13799157  0.22973817]]\n"
     ]
    }
   ],
   "source": [
    "#Training\n",
    "for i in range(n_epochs):\n",
    "    for _ in range(num_batches):\n",
    "        #Splitting data into batches\n",
    "        X_batch = X_train[ind:ind + batch_size,:]\n",
    "        Y_batch = Y_train[ind:ind + batch_size]\n",
    "        #Computing output for batch\n",
    "        h = output(X_batch,w)\n",
    "        #Evaluating loss and adding to the batch sum\n",
    "        loss = losses(h,Y_batch)\n",
    "        loss_sum += loss\n",
    "        #Computing weight gradient \n",
    "        dw = np.matmul((h - Y_batch.T),X_batch)\n",
    "        #Computing bias gradient\n",
    "        db = (h - Y_batch.T).mean()\n",
    "        #Updating weights\n",
    "        w[:,0:2] -= learning_rate*dw\n",
    "        #Updating bias\n",
    "        w[:,2] -= learning_rate*db\n",
    "        #Setting ind to starting index of next batch\n",
    "        ind += batch_size\n",
    "    #Computing average loss per epoch\n",
    "    average_loss = loss_sum/num_batches\n",
    "    #Appending average loss to list of loss per epoch\n",
    "    loss_epoch.append(average_loss)\n",
    "    print(\"Loss at epoch {}: {:5.1f}\".format(i+1,average_loss))\n",
    "    #Resetting sum and average\n",
    "    loss_sum = 0.0\n",
    "    average_loss = 0.0\n",
    "    #Resetting ind for next epoch\n",
    "    ind = 0\n",
    "        \n",
    "#Testing\n",
    "#Compute output\n",
    "h = output(X_test, w)\n",
    "#Compute loss\n",
    "loss = losses(h, Y_test)\n",
    "print(\"Loss at test time : {}\".format(loss))\n",
    "print(\"Final weights : \",w)"
   ]
  },
  {
   "cell_type": "code",
   "execution_count": 13,
   "metadata": {
    "scrolled": true
   },
   "outputs": [
    {
     "data": {
      "text/plain": [
       "Text(0,0.5,'Loss per epoch')"
      ]
     },
     "execution_count": 13,
     "metadata": {},
     "output_type": "execute_result"
    },
    {
     "data": {
      "image/png": "[encoded data removed]",
      "text/plain": [
       "<matplotlib.figure.Figure at 0xa07c160>"
      ]
     },
     "metadata": {},
     "output_type": "display_data"
    }
   ],
   "source": [
    "plt.plot(list(range(n_epochs)),loss_epoch,'-r')\n",
    "plt.xlabel(\"Number of epochs\")\n",
    "plt.ylabel(\"Loss per epoch\")"
   ]
  },
  {
   "cell_type": "markdown",
   "metadata": {},
   "source": [
    "# Key Notes"
   ]
  },
  {
   "cell_type": "markdown",
   "metadata": {},
   "source": [
    "An interesting thing to note in this program is the learning rate. It is kept unsually small. The reason for the small learning rate is influenced by weights initialization. The weights are initialized in a range close to what the actual real weights should be. Thus, only very tiny updates are needed over time to reach the goal. Interestingly, if the learning rate is 1e-8, then the network drastically converges. Any higher learning rate like say 1e-6 provides to much energy to the system that the values just overshoot. \n",
    "\n",
    "One can try different learning rates to witness some interesting plots."
   ]
  }
 ],
 "metadata": {
  "kernelspec": {
   "display_name": "Python 3",
   "language": "python",
   "name": "python3"
  },
  "language_info": {
   "codemirror_mode": {
    "name": "ipython",
    "version": 3
   },
   "file_extension": ".py",
   "mimetype": "text/x-python",
   "name": "python",
   "nbconvert_exporter": "python",
   "pygments_lexer": "ipython3",
   "version": "3.6.3"
  }
 },
 "nbformat": 4,
 "nbformat_minor": 2
}
