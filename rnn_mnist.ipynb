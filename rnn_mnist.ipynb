{
 "cells": [
  {
   "cell_type": "code",
   "execution_count": 1,
   "metadata": {
    "collapsed": true
   },
   "outputs": [],
   "source": [
    "#Rnn on mnist dataset"
   ]
  },
  {
   "cell_type": "code",
   "execution_count": 2,
   "metadata": {
    "collapsed": true
   },
   "outputs": [],
   "source": [
    "import tensorflow as tf  #For ML\n",
    "from tensorflow.examples.tutorials.mnist import input_data#Import MNIST data\n",
    "import numpy as np #For Mathematical Operations\n",
    "import time #For calculating running time\n",
    "import os  #For fetching from path"
   ]
  },
  {
   "cell_type": "code",
   "execution_count": 3,
   "metadata": {
    "collapsed": true
   },
   "outputs": [],
   "source": [
    "#Resetting tensorflow graph\n",
    "tf.reset_default_graph()"
   ]
  },
  {
   "cell_type": "code",
   "execution_count": 4,
   "metadata": {
    "collapsed": true
   },
   "outputs": [],
   "source": [
    "#Setting Session\n",
    "sess = tf.InteractiveSession()"
   ]
  },
  {
   "cell_type": "code",
   "execution_count": 5,
   "metadata": {},
   "outputs": [
    {
     "name": "stdout",
     "output_type": "stream",
     "text": [
      "Extracting MNIST_data/train-images-idx3-ubyte.gz\n",
      "Extracting MNIST_data/train-labels-idx1-ubyte.gz\n",
      "Extracting MNIST_data/t10k-images-idx3-ubyte.gz\n",
      "Extracting MNIST_data/t10k-labels-idx1-ubyte.gz\n"
     ]
    }
   ],
   "source": [
    "#Load Dataset\n",
    "MNIST = input_data.read_data_sets('MNIST_data/', one_hot = True)    #Load MNIST dataset"
   ]
  },
  {
   "cell_type": "code",
   "execution_count": 6,
   "metadata": {
    "collapsed": true
   },
   "outputs": [],
   "source": [
    "#Defining parameters for RNN\n",
    "n_epochs = 4 #Number of epochs\n",
    "seq_size = 28 #Input sequence size\n",
    "n_seqs = 28  #Number of sequences per example\n",
    "batch_size = 128 #size of batch\n",
    "hidden_size = 100 #Hidden units size of RNN\n",
    "n_classes = 10 #Number of output classes"
   ]
  },
  {
   "cell_type": "code",
   "execution_count": 7,
   "metadata": {
    "collapsed": true
   },
   "outputs": [],
   "source": [
    "#Defining Input Placeholders\n",
    "with tf.variable_scope('placeholders') as scope:\n",
    "    X = tf.placeholder(shape=[None,n_seqs,seq_size],dtype=tf.float32,\n",
    "                      name='X_placeholder')\n",
    "    Y = tf.placeholder(shape=(None,10),dtype=tf.float32,name='Y_placeholder')"
   ]
  },
  {
   "cell_type": "code",
   "execution_count": 8,
   "metadata": {
    "collapsed": true
   },
   "outputs": [],
   "source": [
    "#Defining RNN architecture\n",
    "with tf.name_scope(\"rnn\"):\n",
    "    lstm_cell = tf.nn.rnn_cell.BasicLSTMCell(hidden_size)\n",
    "    initial_state = lstm_cell.zero_state(batch_size, dtype=tf.float32)\n",
    "    sess.run(tf.shape(initial_state))\n",
    "    outputs, states = tf.nn.dynamic_rnn(lstm_cell,inputs=X,\n",
    "                                        initial_state=initial_state,\n",
    "                                        dtype=tf.float32,\n",
    "                                       )"
   ]
  },
  {
   "cell_type": "code",
   "execution_count": 9,
   "metadata": {
    "collapsed": true
   },
   "outputs": [],
   "source": [
    "#Output layer weights and biases for softmax\n",
    "with tf.variable_scope('output_layer_weights') as scope:\n",
    "    #outputs shape is (batch_size,n_seqs,hidden_size)\n",
    "    #For each batch we form a matrix of shape (batch_size,n_seqs*hidden_size)\n",
    "    #Each example is a vector (1,n_seqs*hidden_size) given by n_inputs\n",
    "    input_features = tf.reshape(outputs,(batch_size,-1))\n",
    "    n_inputs = sess.run(tf.shape(input_features))[1]\n",
    "    w = tf.Variable(tf.random_normal(shape=(n_inputs,n_classes)),\n",
    "                   dtype=tf.float32,name='weights')\n",
    "    b = tf.Variable(tf.random_normal(shape=(1,n_classes)),dtype=tf.float32,\n",
    "                   name='biases')\n",
    "    "
   ]
  },
  {
   "cell_type": "code",
   "execution_count": 10,
   "metadata": {
    "collapsed": true
   },
   "outputs": [],
   "source": [
    "#Defining Loss\n",
    "with tf.name_scope('loss'):\n",
    "    #Logits shape = (batch_size,n_classes)\n",
    "    logits = tf.matmul(input_features,w) + b #scores\n",
    "    #Softmax entropy for each score\n",
    "    entropy = tf.nn.softmax_cross_entropy_with_logits(logits=logits,\n",
    "                                                     labels=Y)\n",
    "    loss = tf.reduce_mean(entropy)"
   ]
  },
  {
   "cell_type": "code",
   "execution_count": 11,
   "metadata": {
    "collapsed": true
   },
   "outputs": [],
   "source": [
    "#Optimizer for RNN with default learning_rate = 0.01 \n",
    "optimizer = tf.train.AdamOptimizer().minimize(loss)"
   ]
  },
  {
   "cell_type": "code",
   "execution_count": 12,
   "metadata": {
    "collapsed": true
   },
   "outputs": [],
   "source": [
    "#Creating summaries for tensorboard\n",
    "with tf.name_scope('summaries'):\n",
    "    tf.summary.scalar('loss',loss)\n",
    "    tf.summary.histogram('loss', loss)\n",
    "    summary_op = tf.summary.merge_all()"
   ]
  },
  {
   "cell_type": "code",
   "execution_count": 13,
   "metadata": {},
   "outputs": [
    {
     "name": "stdout",
     "output_type": "stream",
     "text": [
      "Loss at step 429: 220.5 \n",
      "Loss at step 858:  75.5 \n",
      "Loss at step 1287:  52.5 \n",
      "Loss at step 1716:  38.0 \n",
      "Optimization finished!\n",
      "Time taken: 84.44583010673523\n",
      "Accuracy = 0.9746\n"
     ]
    }
   ],
   "source": [
    "#Initialize variables\n",
    "sess.run(tf.global_variables_initializer())\n",
    "#Create object to save/restore model\n",
    "saver = tf.train.Saver()\n",
    "#For tensorboard visualizations\n",
    "writer = tf.summary.FileWriter('/graphs/rnnmnist', sess.graph)\n",
    "#Check if checkpoint present \n",
    "ckpt = tf.train.get_checkpoint_state(os.path.dirname('/checkpoints/rnn_mnist/checkpoint'))\n",
    "#Restore the latest checkpoint if present\n",
    "if ckpt and ckpt.model_checkpoint_path:\n",
    "    saver.restore(sess, ckpt.model_checkpoint_path)\n",
    "\n",
    "#Start Training\n",
    "n_batches = int(MNIST.train.num_examples/batch_size)\n",
    "loss_sum = 0.0\n",
    "start_time = time.time()\n",
    "for i in range(n_epochs*n_batches):\n",
    "    X_batch,Y_batch = MNIST.train.next_batch(batch_size)\n",
    "    #X_batch of shape (batch_size,784)\n",
    "    X_batch = np.reshape(X_batch,(batch_size,n_seqs,seq_size))\n",
    "    opt, loss_batch, summary = sess.run([optimizer, loss, summary_op], feed_dict = {X: X_batch,Y: Y_batch})\n",
    "\n",
    "    loss_sum += loss_batch\n",
    "    #Adding data to tensorboard summary\n",
    "    writer.add_summary(summary, global_step=i)\n",
    "    if (i+1)%n_batches == 0:\n",
    "        print( \"Loss at step {}: {:5.1f} \".format(i+1, loss_sum))\n",
    "        saver.save(sess, '/checkpoints/rnn_mnist/mnist-rnn', i)\n",
    "        loss_sum = 0.0\n",
    "print('Optimization finished!')\n",
    "print('Time taken: {}'.format(time.time() - start_time))\n",
    "\n",
    "#Start testing\n",
    "n_batches = int(MNIST.test.num_examples/batch_size)\n",
    "total_correct_preds = 0\n",
    "for _ in range(n_batches):\n",
    "    X_batch,Y_batch = MNIST.test.next_batch(batch_size)\n",
    "    X_batch = np.reshape(X_batch,(batch_size,n_seqs,seq_size))\n",
    "    opt, loss_batch, logits_batch = sess.run([optimizer, loss, logits], feed_dict = {X: X_batch,Y: Y_batch})\n",
    "    preds = tf.nn.softmax(logits_batch)\n",
    "    correct_preds = tf.equal(tf.argmax(preds,1), tf.argmax(Y_batch,1))\n",
    "    accuracy = tf.reduce_sum(tf.cast(correct_preds, tf.float32))\n",
    "    total_correct_preds += sess.run(accuracy)\n",
    "print(\"Accuracy = {}\". format(total_correct_preds/MNIST.test.num_examples))\n",
    "        \n",
    "    \n",
    "writer.close()  \n",
    "    "
   ]
  }
 ],
 "metadata": {
  "kernelspec": {
   "display_name": "Python 3",
   "language": "python",
   "name": "python3"
  },
  "language_info": {
   "codemirror_mode": {
    "name": "ipython",
    "version": 3
   },
   "file_extension": ".py",
   "mimetype": "text/x-python",
   "name": "python",
   "nbconvert_exporter": "python",
   "pygments_lexer": "ipython3",
   "version": "3.6.3"
  }
 },
 "nbformat": 4,
 "nbformat_minor": 2
}
